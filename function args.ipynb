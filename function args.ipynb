{
 "cells": [
  {
   "cell_type": "code",
   "execution_count": 4,
   "metadata": {},
   "outputs": [
    {
     "name": "stdout",
     "output_type": "stream",
     "text": [
      "24\n"
     ]
    }
   ],
   "source": [
    "def sumfn(a,b):\n",
    "    print(a+b)\n",
    "sumfn(5,19)"
   ]
  },
  {
   "cell_type": "code",
   "execution_count": 5,
   "metadata": {},
   "outputs": [
    {
     "name": "stdout",
     "output_type": "stream",
     "text": [
      "21\n"
     ]
    }
   ],
   "source": [
    "def sumfn(a=1,b=2):\n",
    "    print(a+b)\n",
    "sumfn(19)"
   ]
  },
  {
   "cell_type": "code",
   "execution_count": 10,
   "metadata": {},
   "outputs": [
    {
     "name": "stdout",
     "output_type": "stream",
     "text": [
      "sim ran pal\n"
     ]
    }
   ],
   "source": [
    "def myfn(arg1, arg2, arg3):\n",
    "    print(arg1,arg2,arg3)\n",
    "    \n",
    "myfn(\"sim\", \"ran\",\"pal\")"
   ]
  },
  {
   "cell_type": "code",
   "execution_count": 11,
   "metadata": {},
   "outputs": [
    {
     "name": "stdout",
     "output_type": "stream",
     "text": [
      "('sim', 'ran', 'pal')\n"
     ]
    }
   ],
   "source": [
    "def myfn(*arg):\n",
    "    print(arg)\n",
    "    \n",
    "myfn(\"sim\", \"ran\",\"pal\")"
   ]
  },
  {
   "cell_type": "code",
   "execution_count": 13,
   "metadata": {},
   "outputs": [
    {
     "name": "stdout",
     "output_type": "stream",
     "text": [
      "sim\n",
      "ran\n",
      "pal\n"
     ]
    }
   ],
   "source": [
    "def myfn(*arg):\n",
    "    for item in arg:\n",
    "        print(item)\n",
    "    \n",
    "myfn(\"sim\", \"ran\",\"pal\")"
   ]
  },
  {
   "cell_type": "code",
   "execution_count": 16,
   "metadata": {},
   "outputs": [],
   "source": [
    "def myfn(*arg):\n",
    "    str = \"re\"\n",
    "    if str in arg:\n",
    "        print(\" Given str is in arg\")\n",
    "    \n",
    "myfn(\"sim\", \"ran\",\"pal\")"
   ]
  },
  {
   "cell_type": "code",
   "execution_count": 53,
   "metadata": {},
   "outputs": [
    {
     "name": "stdout",
     "output_type": "stream",
     "text": [
      "('testing',)\n"
     ]
    }
   ],
   "source": [
    "def myfn(name, age, *kwargs):\n",
    "    if 'testing' in kwargs:\n",
    "        print(kwargs)\n",
    "\n",
    "myfn('sim',11,'testing')\n"
   ]
  },
  {
   "cell_type": "code",
   "execution_count": 50,
   "metadata": {},
   "outputs": [
    {
     "name": "stdout",
     "output_type": "stream",
     "text": [
      "yse\n"
     ]
    }
   ],
   "source": [
    "if 3>2:\n",
    "    print('yse')\n",
    "\n",
    "\n"
   ]
  },
  {
   "cell_type": "code",
   "execution_count": 54,
   "metadata": {},
   "outputs": [
    {
     "ename": "TypeError",
     "evalue": "myfn() takes 2 positional arguments but 3 were given",
     "output_type": "error",
     "traceback": [
      "\u001b[0;31m---------------------------------------------------------------------------\u001b[0m",
      "\u001b[0;31mTypeError\u001b[0m                                 Traceback (most recent call last)",
      "\u001b[0;32m<ipython-input-54-33617ecd2e77>\u001b[0m in \u001b[0;36m<module>\u001b[0;34m\u001b[0m\n\u001b[1;32m      3\u001b[0m         \u001b[0mprint\u001b[0m\u001b[0;34m(\u001b[0m\u001b[0mkwargs\u001b[0m\u001b[0;34m)\u001b[0m\u001b[0;34m\u001b[0m\u001b[0;34m\u001b[0m\u001b[0m\n\u001b[1;32m      4\u001b[0m \u001b[0;34m\u001b[0m\u001b[0m\n\u001b[0;32m----> 5\u001b[0;31m \u001b[0mmyfn\u001b[0m\u001b[0;34m(\u001b[0m\u001b[0;34m'john'\u001b[0m\u001b[0;34m,\u001b[0m\u001b[0;36m11\u001b[0m\u001b[0;34m,\u001b[0m\u001b[0;34m{\u001b[0m\u001b[0;34m'height'\u001b[0m\u001b[0;34m:\u001b[0m\u001b[0;36m160\u001b[0m\u001b[0;34m,\u001b[0m \u001b[0;34m'weight'\u001b[0m\u001b[0;34m:\u001b[0m\u001b[0;36m74\u001b[0m\u001b[0;34m}\u001b[0m\u001b[0;34m)\u001b[0m\u001b[0;34m\u001b[0m\u001b[0;34m\u001b[0m\u001b[0m\n\u001b[0m",
      "\u001b[0;31mTypeError\u001b[0m: myfn() takes 2 positional arguments but 3 were given"
     ]
    }
   ],
   "source": [
    "def myfn(name, age, **kwargs):\n",
    "    if 'height' in kwargs:\n",
    "        print(kwargs)\n",
    "\n",
    "myfn('john',11,{'height':160, 'weight':74})"
   ]
  },
  {
   "cell_type": "code",
   "execution_count": 55,
   "metadata": {},
   "outputs": [
    {
     "name": "stdout",
     "output_type": "stream",
     "text": [
      "{'height': 160, 'weight': 74}\n"
     ]
    }
   ],
   "source": [
    "def myfn(name, age, **kwargs):\n",
    "    if 'height' in kwargs:\n",
    "        print(kwargs)\n",
    "\n",
    "myfn('john',11,**{'height':160, 'weight':74})"
   ]
  },
  {
   "cell_type": "code",
   "execution_count": null,
   "metadata": {},
   "outputs": [],
   "source": []
  }
 ],
 "metadata": {
  "kernelspec": {
   "display_name": "Python 3",
   "language": "python",
   "name": "python3"
  },
  "language_info": {
   "codemirror_mode": {
    "name": "ipython",
    "version": 3
   },
   "file_extension": ".py",
   "mimetype": "text/x-python",
   "name": "python",
   "nbconvert_exporter": "python",
   "pygments_lexer": "ipython3",
   "version": "3.7.1"
  }
 },
 "nbformat": 4,
 "nbformat_minor": 2
}
