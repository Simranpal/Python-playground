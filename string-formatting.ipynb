{
 "cells": [
  {
   "cell_type": "code",
   "execution_count": 1,
   "metadata": {},
   "outputs": [
    {
     "name": "stdout",
     "output_type": "stream",
     "text": [
      "Sammy has 5 balloons.\n"
     ]
    }
   ],
   "source": [
    "print(\"Sammy has {} balloons.\".format(5))"
   ]
  },
  {
   "cell_type": "code",
   "execution_count": 2,
   "metadata": {},
   "outputs": [
    {
     "name": "stdout",
     "output_type": "stream",
     "text": [
      "Sammy loves open source.\n"
     ]
    }
   ],
   "source": [
    "open_string = \"Sammy loves {}.\"\n",
    "print(open_string.format(\"open source\"))"
   ]
  },
  {
   "cell_type": "code",
   "execution_count": 3,
   "metadata": {},
   "outputs": [
    {
     "name": "stdout",
     "output_type": "stream",
     "text": [
      "Sam loves open-source software.\n"
     ]
    }
   ],
   "source": [
    "new_open_string = \"Sam loves {} {}.\"                      #2 {} placeholders\n",
    "print(new_open_string.format(\"open-source\", \"software\"))    #Pass 2 strings into method, separated by a comma"
   ]
  },
  {
   "cell_type": "code",
   "execution_count": 4,
   "metadata": {},
   "outputs": [
    {
     "name": "stdout",
     "output_type": "stream",
     "text": [
      "dogs are better than cats!\n"
     ]
    }
   ],
   "source": [
    "print(\"{0} are better than {1}!\".format(\"dogs\", \"cats\"))"
   ]
  },
  {
   "cell_type": "markdown",
   "metadata": {},
   "source": [
    "We can refer the values by index, since it is a tuple"
   ]
  },
  {
   "cell_type": "code",
   "execution_count": 5,
   "metadata": {},
   "outputs": [
    {
     "name": "stdout",
     "output_type": "stream",
     "text": [
      "cats are better than dogs!\n"
     ]
    }
   ],
   "source": [
    "print(\"{1} are better than {0}!\".format(\"dogs\", \"cats\"))"
   ]
  },
  {
   "cell_type": "markdown",
   "metadata": {},
   "source": [
    "Using Keyword arguments:-"
   ]
  },
  {
   "cell_type": "code",
   "execution_count": 6,
   "metadata": {},
   "outputs": [
    {
     "name": "stdout",
     "output_type": "stream",
     "text": [
      "Sammy the shark made a pull request.\n"
     ]
    }
   ],
   "source": [
    "print(\"Sammy the {0} {1} a {pr}.\".format(\"shark\", \"made\", pr = \"pull request\"))"
   ]
  },
  {
   "cell_type": "code",
   "execution_count": 7,
   "metadata": {},
   "outputs": [
    {
     "name": "stdout",
     "output_type": "stream",
     "text": [
      "Sammy the pull request made a shark.\n"
     ]
    }
   ],
   "source": [
    "print(\"Sammy the {pr} {1} a {0}.\".format(\"shark\", \"made\", pr = \"pull request\"))"
   ]
  },
  {
   "cell_type": "code",
   "execution_count": 9,
   "metadata": {},
   "outputs": [
    {
     "name": "stdout",
     "output_type": "stream",
     "text": [
      "Sammy the pull request made a shark.\n"
     ]
    }
   ],
   "source": [
    "pr = \"pull request\"\n",
    "print(\"Sammy the {pr} {1} a {0}.\".format(\"shark\", \"made\", pr = pr))"
   ]
  },
  {
   "cell_type": "code",
   "execution_count": 10,
   "metadata": {},
   "outputs": [
    {
     "name": "stdout",
     "output_type": "stream",
     "text": [
      "dogs are better than cats!\n"
     ]
    }
   ],
   "source": [
    "print(\"{d} are better than {c}!\".format(d=\"dogs\", c=\"cats\"))"
   ]
  },
  {
   "cell_type": "code",
   "execution_count": 11,
   "metadata": {},
   "outputs": [
    {
     "name": "stdout",
     "output_type": "stream",
     "text": [
      "cats are better than dogs!\n"
     ]
    }
   ],
   "source": [
    "print(\"{c} are better than {d}!\".format(d=\"dogs\", c=\"cats\"))"
   ]
  },
  {
   "cell_type": "markdown",
   "metadata": {},
   "source": [
    "Using if-else conditions inside format"
   ]
  },
  {
   "cell_type": "code",
   "execution_count": 15,
   "metadata": {},
   "outputs": [
    {
     "name": "stdout",
     "output_type": "stream",
     "text": [
      "dogs are better than fish!\n"
     ]
    }
   ],
   "source": [
    "cond = False\n",
    "print(\"{d} are better than {c}!\".format(d=\"dogs\", c=\"cats\"  if cond else \"fish\" ))"
   ]
  },
  {
   "cell_type": "code",
   "execution_count": 17,
   "metadata": {},
   "outputs": [
    {
     "name": "stdout",
     "output_type": "stream",
     "text": [
      "ALTER SYSTEM ALTER CONFIGURATION ('{}', '{}') SET ('{}', '{}')\n"
     ]
    }
   ],
   "source": [
    "cmd = \"ALTER SYSTEM ALTER CONFIGURATION (\\'{}\\', \\'{}\\') SET (\\'{}\\', \\'{}\\')\"\n",
    "print(cmd)"
   ]
  },
  {
   "cell_type": "code",
   "execution_count": 18,
   "metadata": {},
   "outputs": [
    {
     "name": "stdout",
     "output_type": "stream",
     "text": [
      "ALTER SYSTEM ALTER CONFIGURATION ('global.ini', 'SYSTEM') SET ('memory', 'glocal_allocation_limit')\n"
     ]
    }
   ],
   "source": [
    "cmd = \"ALTER SYSTEM ALTER CONFIGURATION (\\'{file_name}\\', \\'{layer}\\') SET (\\'{section_name}\\', \\'{parameter_name}\\')\".format(file_name = 'global.ini', layer= 'SYSTEM',section_name = 'memory', parameter_name='glocal_allocation_limit' )\n",
    "print(cmd)"
   ]
  },
  {
   "cell_type": "code",
   "execution_count": 20,
   "metadata": {},
   "outputs": [
    {
     "name": "stdout",
     "output_type": "stream",
     "text": [
      "ALTER SYSTEM ALTER CONFIGURATION ('global.ini', 'SYSTEM' , 'hostname') SET ('memory', 'glocal_allocation_limit')\n"
     ]
    }
   ],
   "source": [
    "cond = True\n",
    "cmd = \"ALTER SYSTEM ALTER CONFIGURATION (\\'{file_name}\\', \\'{layer}\\' {layer_name}\\') SET (\\'{section_name}\\', \\'{parameter_name}\\')\".format(file_name = 'global.ini', layer= 'SYSTEM',section_name = 'memory', parameter_name='glocal_allocation_limit', layer_name=', \\'hostname'  )\n",
    "print(cmd)"
   ]
  },
  {
   "cell_type": "code",
   "execution_count": 26,
   "metadata": {},
   "outputs": [
    {
     "name": "stdout",
     "output_type": "stream",
     "text": [
      "ALTER SYSTEM ALTER CONFIGURATION ('global.ini', 'SYSTEM', 'hostname01') SET ('memory', 'glocal_allocation_limit')\n"
     ]
    }
   ],
   "source": [
    "cond = True\n",
    "layer_name = 'hostname01'\n",
    "\n",
    "cmd = \"ALTER SYSTEM ALTER CONFIGURATION (\\'{file_name}\\', \\'{layer}\\'{layer_name}\\') SET (\\'{section_name}\\', \\'{parameter_name}\\')\".format(file_name = 'global.ini', layer= 'SYSTEM',section_name = 'memory', parameter_name='glocal_allocation_limit', layer_name=\",\\'\"+layer_name  )\n",
    "print(cmd)"
   ]
  },
  {
   "cell_type": "code",
   "execution_count": 32,
   "metadata": {},
   "outputs": [
    {
     "name": "stdout",
     "output_type": "stream",
     "text": [
      "ALTER SYSTEM ALTER CONFIGURATION ('SYSTEM', 'hostname01')\n"
     ]
    }
   ],
   "source": [
    "cond = True\n",
    "layer_name = 'hostname01'\n",
    "\n",
    "cmd = \"ALTER SYSTEM ALTER CONFIGURATION (\\'{layer}\\'{layer_name}\\')\".format(layer= 'SYSTEM',layer_name= (\", \\'\"+layer_name) if cond else \"\" )\n",
    "print(cmd)"
   ]
  },
  {
   "cell_type": "markdown",
   "metadata": {},
   "source": [
    "Line continuation is automatic when the split comes while a statement is inside parenthesis ( ( ), brackets ( [ ) or braces ( { ). You can specify back slash \\ otherwise"
   ]
  },
  {
   "cell_type": "code",
   "execution_count": 33,
   "metadata": {},
   "outputs": [
    {
     "ename": "SyntaxError",
     "evalue": "invalid syntax (<ipython-input-33-5678d94a9659>, line 2)",
     "output_type": "error",
     "traceback": [
      "\u001b[0;36m  File \u001b[0;32m\"<ipython-input-33-5678d94a9659>\"\u001b[0;36m, line \u001b[0;32m2\u001b[0m\n\u001b[0;31m    =\u001b[0m\n\u001b[0m    ^\u001b[0m\n\u001b[0;31mSyntaxError\u001b[0m\u001b[0;31m:\u001b[0m invalid syntax\n"
     ]
    }
   ],
   "source": [
    "message\n",
    "=\n",
    "'Hello World!'"
   ]
  },
  {
   "cell_type": "code",
   "execution_count": 34,
   "metadata": {},
   "outputs": [],
   "source": [
    "message \\\n",
    "= \\\n",
    "'Hello World!'"
   ]
  },
  {
   "cell_type": "code",
   "execution_count": 35,
   "metadata": {},
   "outputs": [
    {
     "ename": "SyntaxError",
     "evalue": "EOL while scanning string literal (<ipython-input-35-e22d189496f1>, line 1)",
     "output_type": "error",
     "traceback": [
      "\u001b[0;36m  File \u001b[0;32m\"<ipython-input-35-e22d189496f1>\"\u001b[0;36m, line \u001b[0;32m1\u001b[0m\n\u001b[0;31m    message= 'This message will generate an error because\u001b[0m\n\u001b[0m                                                         ^\u001b[0m\n\u001b[0;31mSyntaxError\u001b[0m\u001b[0;31m:\u001b[0m EOL while scanning string literal\n"
     ]
    }
   ],
   "source": [
    "message= 'This message will generate an error because\n",
    "  it was split by using the enter button on your\n",
    "  keyboard'"
   ]
  },
  {
   "cell_type": "code",
   "execution_count": 39,
   "metadata": {},
   "outputs": [
    {
     "name": "stdout",
     "output_type": "stream",
     "text": [
      "This back slash acts like enter\n"
     ]
    }
   ],
   "source": [
    "msg \\\n",
    "=\\\n",
    "'This \\\n",
    "back slash \\\n",
    "acts \\\n",
    "like \\\n",
    "enter'\n",
    "print\\\n",
    "(msg)"
   ]
  },
  {
   "cell_type": "code",
   "execution_count": 40,
   "metadata": {},
   "outputs": [],
   "source": [
    "message\\\n",
    "=\\\n",
    "'''triple\n",
    "quotes\n",
    "will\n",
    "span\n",
    "multiple lines\n",
    "without\n",
    "errors'''"
   ]
  },
  {
   "cell_type": "code",
   "execution_count": 41,
   "metadata": {},
   "outputs": [
    {
     "name": "stdout",
     "output_type": "stream",
     "text": [
      "triple\n",
      "quotes\n",
      "will\n",
      "span\n",
      "multiple lines\n",
      "without\n",
      "errors\n"
     ]
    }
   ],
   "source": [
    "print(message)"
   ]
  },
  {
   "cell_type": "code",
   "execution_count": null,
   "metadata": {},
   "outputs": [],
   "source": []
  }
 ],
 "metadata": {
  "kernelspec": {
   "display_name": "Python 3",
   "language": "python",
   "name": "python3"
  },
  "language_info": {
   "codemirror_mode": {
    "name": "ipython",
    "version": 3
   },
   "file_extension": ".py",
   "mimetype": "text/x-python",
   "name": "python",
   "nbconvert_exporter": "python",
   "pygments_lexer": "ipython3",
   "version": "3.7.1"
  }
 },
 "nbformat": 4,
 "nbformat_minor": 2
}
